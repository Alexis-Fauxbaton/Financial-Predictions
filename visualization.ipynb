{
 "cells": [
  {
   "cell_type": "code",
   "execution_count": null,
   "metadata": {},
   "outputs": [],
   "source": [
    "import pandas as pd\n",
    "import numpy as np\n",
    "import matplotlib.pyplot as plt\n",
    "from mpl_toolkits.mplot3d import Axes3D\n",
    "%matplotlib inline"
   ]
  },
  {
   "cell_type": "code",
   "execution_count": null,
   "metadata": {},
   "outputs": [],
   "source": [
    "data = pd.read_csv(\"BTC-USD_SIGNALS.csv\")\n",
    "data"
   ]
  },
  {
   "cell_type": "markdown",
   "metadata": {},
   "source": [
    "# Correlations"
   ]
  },
  {
   "cell_type": "code",
   "execution_count": null,
   "metadata": {},
   "outputs": [],
   "source": [
    "corr = data.corr(\"spearman\")\n",
    "corr"
   ]
  },
  {
   "cell_type": "code",
   "execution_count": null,
   "metadata": {},
   "outputs": [],
   "source": [
    "corr[[\"Variation\"]].sort_values(by=\"Variation\")"
   ]
  },
  {
   "cell_type": "code",
   "execution_count": null,
   "metadata": {},
   "outputs": [],
   "source": [
    "pd.plotting.scatter_matrix(data,figsize=[12,12])"
   ]
  },
  {
   "cell_type": "markdown",
   "metadata": {},
   "source": [
    "## Adding Variation+1"
   ]
  },
  {
   "cell_type": "code",
   "execution_count": null,
   "metadata": {},
   "outputs": [],
   "source": [
    "newdata = data.copy()\n",
    "newdata[\"Variation+1\"] = data[\"Variation\"].shift(-1)\n",
    "newdata"
   ]
  },
  {
   "cell_type": "code",
   "execution_count": null,
   "metadata": {},
   "outputs": [],
   "source": [
    "corr = newdata.corr(\"spearman\")\n",
    "corr"
   ]
  },
  {
   "cell_type": "code",
   "execution_count": null,
   "metadata": {},
   "outputs": [],
   "source": [
    "corr[[\"Variation+1\"]].sort_values(by=\"Variation+1\")"
   ]
  },
  {
   "cell_type": "code",
   "execution_count": null,
   "metadata": {},
   "outputs": [],
   "source": [
    "#plt.show()"
   ]
  },
  {
   "cell_type": "markdown",
   "metadata": {},
   "source": [
    "## Variation with respect to other variables"
   ]
  },
  {
   "cell_type": "code",
   "execution_count": null,
   "metadata": {},
   "outputs": [],
   "source": [
    "plt.figure(figsize=[10,5])\n",
    "plt.scatter(data[\"RSI\"],data[\"Variation\"])"
   ]
  },
  {
   "cell_type": "code",
   "execution_count": null,
   "metadata": {},
   "outputs": [],
   "source": [
    "plt.figure(figsize=[10,5])\n",
    "plt.scatter(data[\"MACD_H\"],data[\"Variation\"])"
   ]
  },
  {
   "cell_type": "code",
   "execution_count": null,
   "metadata": {},
   "outputs": [],
   "source": [
    "fig = plt.figure(figsize=(12, 12))\n",
    "ax = fig.add_subplot(projection='3d')\n",
    "ax.scatter(list(data[\"MACD_H\"]),list(data[\"RSI\"]),list(data[\"Variation\"]))\n",
    "plt.xlabel(xlabel=\"RSI\")\n",
    "plt.ylabel(ylabel=\"MACD_H\")\n",
    "plt.legend()\n",
    "plt.show()"
   ]
  },
  {
   "cell_type": "markdown",
   "metadata": {},
   "source": [
    "# Examining Predict Data"
   ]
  },
  {
   "cell_type": "markdown",
   "metadata": {},
   "source": [
    "## Initial Data"
   ]
  },
  {
   "cell_type": "code",
   "execution_count": null,
   "metadata": {},
   "outputs": [],
   "source": [
    "predict_data = data.copy().drop([\"Open\",\"Close\",\"High\",\"Low\"],axis=1)\n",
    "max_days = 5\n",
    "target_range = 2\n",
    "for i in range(1,max_days):#2jours\n",
    "    #predict_data[[\"Variation-{}\".format(i),\"Vol-{}\".format(i),\"RSI-{}\".format(i),\"MACD-{}\".format(i),\"MACD_H-{}\".format(i),\"CONF-{}\".format(i),\"TRANS-{}\".format(i),\"REV-{}\".format(i),\"FnG-{}\".format(i)]] = data[[\"Variation\",\"Volume\",\"RSI\",\"MACD\",\"MACD_H\",\"Confirmation Time\",\"Transactions\",\"Miners Revenue\",\"FnG\"]].shift(i)\n",
    "    predict_data[[\"Variation-{}\".format(i),\"Vol-{}\".format(i),\"RSI-{}\".format(i),\"MACD-{}\".format(i),\"MACD_H-{}\".format(i),\"CONF-{}\".format(i),\"TRANS-{}\".format(i),\"REV-{}\".format(i),\"FnG-{}\".format(i), \"ADX-{}\".format(i), \"+DM-{}\".format(i), \"-DM-{}\".format(i)]] = data[[\"Variation\",\"Volume\",\"RSI\",\"MACD\",\"MACD_H\",\"Confirmation Time\",\"Transactions\",\"Miners Revenue\",\"FnG\",\"ADX14\",\"+DM\",\"-DM\"]].shift(i)\n",
    "    #predict_data[[\"Variation-{}\".format(i),\"Vol-{}\".format(i),\"RSI-{}\".format(i),\"MACD-{}\".format(i),\"MACD_H-{}\".format(i)]] = data[[\"Variation\",\"Volume\",\"RSI\",\"MACD\",\"MACD_H\"]].shift(i)\n",
    "#predict_data[\"Target\"] = (data[\"Variation\"].shift(-1) >= 0)\n",
    "predict_data[\"Target\"] = (data[\"Close\"].shift(-target_range) - data[\"Close\"] >= 0)\n",
    "predict_data[\"Target\"] = np.where(predict_data[\"Target\"] == True, 1, 0)\n",
    "predict_data.dropna(inplace=True)\n",
    "predict_data.reset_index(inplace=True,drop=True)\n",
    "predict_data = predict_data[0:len(predict_data)-target_range]"
   ]
  },
  {
   "cell_type": "code",
   "execution_count": null,
   "metadata": {},
   "outputs": [],
   "source": [
    "corr = predict_data.corr()"
   ]
  },
  {
   "cell_type": "code",
   "execution_count": null,
   "metadata": {},
   "outputs": [],
   "source": [
    "corr"
   ]
  },
  {
   "cell_type": "code",
   "execution_count": null,
   "metadata": {},
   "outputs": [],
   "source": [
    "corr[\"Target\"].sort_values()"
   ]
  },
  {
   "cell_type": "markdown",
   "metadata": {},
   "source": [
    "## Grouping Data by Mean"
   ]
  },
  {
   "cell_type": "code",
   "execution_count": null,
   "metadata": {},
   "outputs": [],
   "source": [
    "new_predict_data = predict_data.copy()"
   ]
  },
  {
   "cell_type": "code",
   "execution_count": null,
   "metadata": {},
   "outputs": [],
   "source": [
    "\"\"\"\"\"\"\n",
    "RSIs = [\"RSI-{}\".format(i) for i in range(1,max_days)]\n",
    "RSIs.append(\"RSI\")\n",
    "MACDs = [\"MACD-{}\".format(i) for i in range(1,max_days)]\n",
    "MACDs.append(\"MACD\")\n",
    "MACD_Hs = [\"MACD_H-{}\".format(i) for i in range(1,max_days)]\n",
    "MACD_Hs.append(\"MACD_H\")\n",
    "Variations = [\"Variation-{}\".format(i) for i in range(1,max_days)]\n",
    "Variations.append(\"Variation\")\n",
    "Revenues = [\"REV-{}\".format(i) for i in range(1,max_days)]\n",
    "Revenues.append(\"Miners Revenue\")\n",
    "pDMs = [\"+DM-{}\".format(i) for i in range(1,max_days)]\n",
    "pDMs.append(\"+DM\")\n",
    "mDMs = [\"-DM-{}\".format(i) for i in range(1,max_days)]\n",
    "mDMs.append(\"-DM\")\n",
    "ADXs = [\"ADX-{}\".format(i) for i in range(1,max_days)]\n",
    "ADXs.append(\"ADX14\")\n",
    "new_predict_data[\"RSI_MEAN\"] = new_predict_data[RSIs].mean(axis=1)\n",
    "new_predict_data[\"MACD_MEAN\"] = new_predict_data[MACDs].mean(axis=1)\n",
    "new_predict_data[\"MACD_H_MEAN\"] = new_predict_data[MACD_Hs].mean(axis=1)\n",
    "new_predict_data[\"Variation_MEAN\"] = new_predict_data[Variations].mean(axis=1)\n",
    "new_predict_data[\"Revenues_MEAN\"] = new_predict_data[Revenues].mean(axis=1)\n",
    "new_predict_data[\"+DM_MEAN\"] = new_predict_data[pDMs].mean(axis=1)\n",
    "new_predict_data[\"-DM_MEAN\"] = new_predict_data[mDMs].mean(axis=1)\n",
    "new_predict_data[\"ADX_MEAN\"] = new_predict_data[ADXs].mean(axis=1)\n",
    "new_predict_data.drop(RSIs+MACDs+MACD_Hs+Variations+Revenues+pDMs+mDMs+ADXs,axis=1,inplace=True)"
   ]
  },
  {
   "cell_type": "code",
   "execution_count": null,
   "metadata": {},
   "outputs": [],
   "source": [
    "new_predict_data"
   ]
  },
  {
   "cell_type": "code",
   "execution_count": null,
   "metadata": {},
   "outputs": [],
   "source": [
    "corr = new_predict_data.corr()"
   ]
  },
  {
   "cell_type": "code",
   "execution_count": null,
   "metadata": {},
   "outputs": [],
   "source": [
    "corr"
   ]
  },
  {
   "cell_type": "code",
   "execution_count": null,
   "metadata": {},
   "outputs": [],
   "source": [
    "corr[\"Target\"].sort_values()"
   ]
  },
  {
   "cell_type": "markdown",
   "metadata": {},
   "source": [
    "## Alternate Data"
   ]
  },
  {
   "cell_type": "code",
   "execution_count": null,
   "metadata": {},
   "outputs": [],
   "source": [
    "alternate_predict_data = data.copy()\n",
    "predict_days = 2"
   ]
  },
  {
   "cell_type": "code",
   "execution_count": null,
   "metadata": {},
   "outputs": [],
   "source": [
    "alternate_predict_data[\"RSI\"] = alternate_predict_data[\"RSI\"].rolling(max_days).mean()\n",
    "alternate_predict_data[\"MACD\"] = alternate_predict_data[\"MACD\"].rolling(max_days).mean()\n",
    "alternate_predict_data[\"MACD_H\"] = alternate_predict_data[\"MACD_H\"].rolling(max_days).mean()\n",
    "alternate_predict_data[\"+DM\"] = alternate_predict_data[\"+DM\"].rolling(max_days).mean()\n",
    "alternate_predict_data[\"-DM\"] = alternate_predict_data[\"-DM\"].rolling(max_days).mean()\n",
    "alternate_predict_data[\"ADX14\"] = alternate_predict_data[\"ADX14\"].rolling(max_days).mean()\n",
    "alternate_predict_data[\"Transactions\"] = alternate_predict_data[\"Transactions\"].rolling(max_days).mean()\n",
    "alternate_predict_data[\"Confirmation Time\"] = alternate_predict_data[\"Confirmation Time\"].rolling(max_days).mean()\n",
    "alternate_predict_data[\"Miners Revenue\"] = alternate_predict_data[\"Miners Revenue\"].rolling(max_days).mean()\n",
    "alternate_predict_data[\"FnG\"] = alternate_predict_data[\"FnG\"].rolling(max_days).mean()\n",
    "alternate_predict_data[\"Variation\"] = alternate_predict_data[\"Variation\"].rolling(max_days).mean()\n",
    "alternate_predict_data[\"Volume\"] = alternate_predict_data[\"Volume\"].rolling(max_days).mean()\n",
    "\n",
    "alternate_predict_data[\"Target\"] = (alternate_predict_data[\"Close\"].shift(-predict_days) - alternate_predict_data[\"Close\"] >= 0)\n",
    "alternate_predict_data[\"Target\"] = np.where(alternate_predict_data[\"Target\"] == True, 1, 0)"
   ]
  },
  {
   "cell_type": "code",
   "execution_count": null,
   "metadata": {},
   "outputs": [],
   "source": [
    "corr = alternate_predict_data.corr(method=\"spearman\")"
   ]
  },
  {
   "cell_type": "code",
   "execution_count": null,
   "metadata": {},
   "outputs": [],
   "source": [
    "corr"
   ]
  },
  {
   "cell_type": "code",
   "execution_count": null,
   "metadata": {},
   "outputs": [],
   "source": [
    "corr[\"Target\"].sort_values()"
   ]
  },
  {
   "cell_type": "markdown",
   "metadata": {},
   "source": [
    "# 1 minute data"
   ]
  },
  {
   "cell_type": "code",
   "execution_count": null,
   "metadata": {},
   "outputs": [],
   "source": [
    "minute_data = pd.read_csv(\"minute_data/BTC-USD_1M_SIGNALS.csv\")"
   ]
  },
  {
   "cell_type": "code",
   "execution_count": null,
   "metadata": {},
   "outputs": [],
   "source": [
    "minute_data[\"Variation+1\"] = minute_data[\"Variation\"].shift(-1)"
   ]
  },
  {
   "cell_type": "code",
   "execution_count": null,
   "metadata": {},
   "outputs": [],
   "source": [
    "minute_data"
   ]
  },
  {
   "cell_type": "code",
   "execution_count": null,
   "metadata": {},
   "outputs": [],
   "source": [
    "corr = minute_data.corr(method=\"spearman\")\n",
    "corr"
   ]
  },
  {
   "cell_type": "code",
   "execution_count": null,
   "metadata": {},
   "outputs": [],
   "source": [
    "corr[\"Variation+1\"].sort_values()"
   ]
  },
  {
   "cell_type": "markdown",
   "metadata": {},
   "source": [
    "## Dollar Tick Data"
   ]
  },
  {
   "cell_type": "code",
   "execution_count": 4,
   "metadata": {},
   "outputs": [],
   "source": [
    "import plotly.graph_objects as go\n",
    "import pandas as pd\n",
    "import mplfinance as fplt"
   ]
  },
  {
   "cell_type": "code",
   "execution_count": 14,
   "metadata": {},
   "outputs": [],
   "source": [
    "data = pd.read_csv(\"dollar_data/dollar_data.csv\", parse_dates=True)\n",
    "data = data.loc[data[\"Unix\"] >= 1609459200][0:1000]\n",
    "data.index = pd.to_datetime(data['Date'])"
   ]
  },
  {
   "cell_type": "code",
   "execution_count": 15,
   "metadata": {},
   "outputs": [
    {
     "data": {
      "text/html": [
       "<div>\n",
       "<style scoped>\n",
       "    .dataframe tbody tr th:only-of-type {\n",
       "        vertical-align: middle;\n",
       "    }\n",
       "\n",
       "    .dataframe tbody tr th {\n",
       "        vertical-align: top;\n",
       "    }\n",
       "\n",
       "    .dataframe thead th {\n",
       "        text-align: right;\n",
       "    }\n",
       "</style>\n",
       "<table border=\"1\" class=\"dataframe\">\n",
       "  <thead>\n",
       "    <tr style=\"text-align: right;\">\n",
       "      <th></th>\n",
       "      <th>Unix</th>\n",
       "      <th>Date</th>\n",
       "      <th>Open</th>\n",
       "      <th>High</th>\n",
       "      <th>Low</th>\n",
       "      <th>Close</th>\n",
       "    </tr>\n",
       "    <tr>\n",
       "      <th>Date</th>\n",
       "      <th></th>\n",
       "      <th></th>\n",
       "      <th></th>\n",
       "      <th></th>\n",
       "      <th></th>\n",
       "      <th></th>\n",
       "    </tr>\n",
       "  </thead>\n",
       "  <tbody>\n",
       "    <tr>\n",
       "      <th>2021-01-01 00:02:00</th>\n",
       "      <td>1609459320</td>\n",
       "      <td>2021-01-01 00:02:00</td>\n",
       "      <td>29083.47</td>\n",
       "      <td>29073.02</td>\n",
       "      <td>28938.21</td>\n",
       "      <td>28941.55</td>\n",
       "    </tr>\n",
       "    <tr>\n",
       "      <th>2021-01-01 00:09:00</th>\n",
       "      <td>1609459740</td>\n",
       "      <td>2021-01-01 00:09:00</td>\n",
       "      <td>28941.55</td>\n",
       "      <td>28987.85</td>\n",
       "      <td>28903.28</td>\n",
       "      <td>28925.13</td>\n",
       "    </tr>\n",
       "    <tr>\n",
       "      <th>2021-01-01 00:11:00</th>\n",
       "      <td>1609459860</td>\n",
       "      <td>2021-01-01 00:11:00</td>\n",
       "      <td>28925.13</td>\n",
       "      <td>28936.19</td>\n",
       "      <td>28843.74</td>\n",
       "      <td>28888.34</td>\n",
       "    </tr>\n",
       "    <tr>\n",
       "      <th>2021-01-01 00:12:00</th>\n",
       "      <td>1609459920</td>\n",
       "      <td>2021-01-01 00:12:00</td>\n",
       "      <td>28888.34</td>\n",
       "      <td>28931.49</td>\n",
       "      <td>28800.00</td>\n",
       "      <td>28811.01</td>\n",
       "    </tr>\n",
       "    <tr>\n",
       "      <th>2021-01-01 00:14:00</th>\n",
       "      <td>1609460040</td>\n",
       "      <td>2021-01-01 00:14:00</td>\n",
       "      <td>28811.01</td>\n",
       "      <td>28839.99</td>\n",
       "      <td>28774.64</td>\n",
       "      <td>28834.74</td>\n",
       "    </tr>\n",
       "    <tr>\n",
       "      <th>...</th>\n",
       "      <td>...</td>\n",
       "      <td>...</td>\n",
       "      <td>...</td>\n",
       "      <td>...</td>\n",
       "      <td>...</td>\n",
       "      <td>...</td>\n",
       "    </tr>\n",
       "    <tr>\n",
       "      <th>2021-01-02 09:32:00</th>\n",
       "      <td>1609579920</td>\n",
       "      <td>2021-01-02 09:32:00</td>\n",
       "      <td>29779.36</td>\n",
       "      <td>29807.14</td>\n",
       "      <td>29771.07</td>\n",
       "      <td>29807.10</td>\n",
       "    </tr>\n",
       "    <tr>\n",
       "      <th>2021-01-02 09:34:00</th>\n",
       "      <td>1609580040</td>\n",
       "      <td>2021-01-02 09:34:00</td>\n",
       "      <td>29807.10</td>\n",
       "      <td>29807.10</td>\n",
       "      <td>29757.18</td>\n",
       "      <td>29757.18</td>\n",
       "    </tr>\n",
       "    <tr>\n",
       "      <th>2021-01-02 09:35:00</th>\n",
       "      <td>1609580100</td>\n",
       "      <td>2021-01-02 09:35:00</td>\n",
       "      <td>29757.18</td>\n",
       "      <td>29757.18</td>\n",
       "      <td>29666.66</td>\n",
       "      <td>29704.71</td>\n",
       "    </tr>\n",
       "    <tr>\n",
       "      <th>2021-01-02 09:36:00</th>\n",
       "      <td>1609580160</td>\n",
       "      <td>2021-01-02 09:36:00</td>\n",
       "      <td>29704.71</td>\n",
       "      <td>29810.38</td>\n",
       "      <td>29707.68</td>\n",
       "      <td>29801.57</td>\n",
       "    </tr>\n",
       "    <tr>\n",
       "      <th>2021-01-02 09:41:00</th>\n",
       "      <td>1609580460</td>\n",
       "      <td>2021-01-02 09:41:00</td>\n",
       "      <td>29801.57</td>\n",
       "      <td>29845.75</td>\n",
       "      <td>29791.62</td>\n",
       "      <td>29828.63</td>\n",
       "    </tr>\n",
       "  </tbody>\n",
       "</table>\n",
       "<p>1000 rows × 6 columns</p>\n",
       "</div>"
      ],
      "text/plain": [
       "                           Unix                 Date  ...       Low     Close\n",
       "Date                                                  ...                    \n",
       "2021-01-01 00:02:00  1609459320  2021-01-01 00:02:00  ...  28938.21  28941.55\n",
       "2021-01-01 00:09:00  1609459740  2021-01-01 00:09:00  ...  28903.28  28925.13\n",
       "2021-01-01 00:11:00  1609459860  2021-01-01 00:11:00  ...  28843.74  28888.34\n",
       "2021-01-01 00:12:00  1609459920  2021-01-01 00:12:00  ...  28800.00  28811.01\n",
       "2021-01-01 00:14:00  1609460040  2021-01-01 00:14:00  ...  28774.64  28834.74\n",
       "...                         ...                  ...  ...       ...       ...\n",
       "2021-01-02 09:32:00  1609579920  2021-01-02 09:32:00  ...  29771.07  29807.10\n",
       "2021-01-02 09:34:00  1609580040  2021-01-02 09:34:00  ...  29757.18  29757.18\n",
       "2021-01-02 09:35:00  1609580100  2021-01-02 09:35:00  ...  29666.66  29704.71\n",
       "2021-01-02 09:36:00  1609580160  2021-01-02 09:36:00  ...  29707.68  29801.57\n",
       "2021-01-02 09:41:00  1609580460  2021-01-02 09:41:00  ...  29791.62  29828.63\n",
       "\n",
       "[1000 rows x 6 columns]"
      ]
     },
     "execution_count": 15,
     "metadata": {},
     "output_type": "execute_result"
    }
   ],
   "source": [
    "data"
   ]
  },
  {
   "cell_type": "code",
   "execution_count": 16,
   "metadata": {},
   "outputs": [],
   "source": [
    "fig = go.Figure(data=[go.Candlestick(x=data['Date'],\n",
    "                open=data['Open'],\n",
    "                high=data['High'],\n",
    "                low=data['Low'],\n",
    "                close=data['Close'])])"
   ]
  },
  {
   "cell_type": "code",
   "execution_count": 23,
   "metadata": {},
   "outputs": [
    {
     "name": "stderr",
     "output_type": "stream",
     "text": [
      "c:\\Users\\Alexis\\AppData\\Local\\Programs\\Python\\Python38\\lib\\site-packages\\mplfinance\\_arg_validators.py:36: UserWarning:\n",
      "\n",
      "\n",
      "\n",
      " ================================================================= \n",
      "\n",
      "   WARNING: YOU ARE PLOTTING SO MUCH DATA THAT IT MAY NOT BE\n",
      "            POSSIBLE TO SEE DETAILS (Candles, Ohlc-Bars, Etc.)\n",
      "   For more information see:\n",
      "   - https://github.com/matplotlib/mplfinance/wiki/Plotting-Too-Much-Data\n",
      "   \n",
      "   TO SILENCE THIS WARNING, set `type='line'` in `mpf.plot()`\n",
      "   OR set kwarg `warn_too_much_data=N` where N is an integer \n",
      "   LARGER than the number of data points you want to plot.\n",
      "\n",
      " ================================================================ \n",
      "\n"
     ]
    },
    {
     "name": "stdout",
     "output_type": "stream",
     "text": [
      "1000\n"
     ]
    },
    {
     "name": "stderr",
     "output_type": "stream",
     "text": [
      "Exception in Tkinter callback\n",
      "Traceback (most recent call last):\n",
      "  File \"c:\\Users\\Alexis\\AppData\\Local\\Programs\\Python\\Python38\\lib\\tkinter\\__init__.py\", line 1895, in __call__\n",
      "    return self.func(*args)\n",
      "  File \"c:\\Users\\Alexis\\AppData\\Local\\Programs\\Python\\Python38\\lib\\tkinter\\__init__.py\", line 816, in callit\n",
      "    func(*args)\n",
      "  File \"c:\\Users\\Alexis\\AppData\\Local\\Programs\\Python\\Python38\\lib\\site-packages\\matplotlib\\backends\\_backend_tk.py\", line 253, in idle_draw\n",
      "    self.draw()\n",
      "  File \"c:\\Users\\Alexis\\AppData\\Local\\Programs\\Python\\Python38\\lib\\site-packages\\matplotlib\\backends\\backend_tkagg.py\", line 9, in draw\n",
      "    super(FigureCanvasTkAgg, self).draw()\n",
      "  File \"c:\\Users\\Alexis\\AppData\\Local\\Programs\\Python\\Python38\\lib\\site-packages\\matplotlib\\backends\\backend_agg.py\", line 407, in draw\n",
      "    self.figure.draw(self.renderer)\n",
      "  File \"c:\\Users\\Alexis\\AppData\\Local\\Programs\\Python\\Python38\\lib\\site-packages\\matplotlib\\artist.py\", line 41, in draw_wrapper\n",
      "    return draw(artist, renderer, *args, **kwargs)\n",
      "  File \"c:\\Users\\Alexis\\AppData\\Local\\Programs\\Python\\Python38\\lib\\site-packages\\matplotlib\\figure.py\", line 1863, in draw\n",
      "    mimage._draw_list_compositing_images(\n",
      "  File \"c:\\Users\\Alexis\\AppData\\Local\\Programs\\Python\\Python38\\lib\\site-packages\\matplotlib\\image.py\", line 131, in _draw_list_compositing_images\n",
      "    a.draw(renderer)\n",
      "  File \"c:\\Users\\Alexis\\AppData\\Local\\Programs\\Python\\Python38\\lib\\site-packages\\matplotlib\\artist.py\", line 41, in draw_wrapper\n",
      "    return draw(artist, renderer, *args, **kwargs)\n",
      "  File \"c:\\Users\\Alexis\\AppData\\Local\\Programs\\Python\\Python38\\lib\\site-packages\\matplotlib\\cbook\\deprecation.py\", line 411, in wrapper\n",
      "    return func(*inner_args, **inner_kwargs)\n",
      "  File \"c:\\Users\\Alexis\\AppData\\Local\\Programs\\Python\\Python38\\lib\\site-packages\\matplotlib\\axes\\_base.py\", line 2747, in draw\n",
      "    mimage._draw_list_compositing_images(renderer, self, artists)\n",
      "  File \"c:\\Users\\Alexis\\AppData\\Local\\Programs\\Python\\Python38\\lib\\site-packages\\matplotlib\\image.py\", line 131, in _draw_list_compositing_images\n",
      "    a.draw(renderer)\n",
      "  File \"c:\\Users\\Alexis\\AppData\\Local\\Programs\\Python\\Python38\\lib\\site-packages\\matplotlib\\artist.py\", line 41, in draw_wrapper\n",
      "    return draw(artist, renderer, *args, **kwargs)\n",
      "  File \"c:\\Users\\Alexis\\AppData\\Local\\Programs\\Python\\Python38\\lib\\site-packages\\matplotlib\\axis.py\", line 1176, in draw\n",
      "    self._update_label_position(renderer)\n",
      "  File \"c:\\Users\\Alexis\\AppData\\Local\\Programs\\Python\\Python38\\lib\\site-packages\\matplotlib\\axis.py\", line 2061, in _update_label_position\n",
      "    bboxes, bboxes2 = self._get_tick_boxes_siblings(renderer=renderer)\n",
      "  File \"c:\\Users\\Alexis\\AppData\\Local\\Programs\\Python\\Python38\\lib\\site-packages\\matplotlib\\axis.py\", line 2046, in _get_tick_boxes_siblings\n",
      "    tlb, tlb2 = axx.xaxis._get_tick_bboxes(ticks_to_draw, renderer)\n",
      "  File \"c:\\Users\\Alexis\\AppData\\Local\\Programs\\Python\\Python38\\lib\\site-packages\\matplotlib\\axis.py\", line 1091, in _get_tick_bboxes\n",
      "    return ([tick.label1.get_window_extent(renderer)\n",
      "  File \"c:\\Users\\Alexis\\AppData\\Local\\Programs\\Python\\Python38\\lib\\site-packages\\matplotlib\\axis.py\", line 1091, in <listcomp>\n",
      "    return ([tick.label1.get_window_extent(renderer)\n",
      "  File \"c:\\Users\\Alexis\\AppData\\Local\\Programs\\Python\\Python38\\lib\\site-packages\\matplotlib\\text.py\", line 902, in get_window_extent\n",
      "    bbox, info, descent = self._get_layout(self._renderer)\n",
      "  File \"c:\\Users\\Alexis\\AppData\\Local\\Programs\\Python\\Python38\\lib\\site-packages\\matplotlib\\text.py\", line 287, in _get_layout\n",
      "    _, lp_h, lp_d = renderer.get_text_width_height_descent(\n",
      "  File \"c:\\Users\\Alexis\\AppData\\Local\\Programs\\Python\\Python38\\lib\\site-packages\\matplotlib\\backends\\backend_agg.py\", line 237, in get_text_width_height_descent\n",
      "    font = self._get_agg_font(prop)\n",
      "  File \"c:\\Users\\Alexis\\AppData\\Local\\Programs\\Python\\Python38\\lib\\site-packages\\matplotlib\\backends\\backend_agg.py\", line 272, in _get_agg_font\n",
      "    fname = findfont(prop)\n",
      "  File \"c:\\Users\\Alexis\\AppData\\Local\\Programs\\Python\\Python38\\lib\\site-packages\\matplotlib\\font_manager.py\", line 1314, in findfont\n",
      "    return os.path.realpath(filename)\n",
      "  File \"c:\\Users\\Alexis\\AppData\\Local\\Programs\\Python\\Python38\\lib\\ntpath.py\", line 647, in realpath\n",
      "    path = _getfinalpathname(path)\n",
      "KeyboardInterrupt\n"
     ]
    }
   ],
   "source": [
    "from matplotlib.pyplot import xticks\n",
    "\n",
    "\n",
    "fig, axlist = fplt.plot(\n",
    "    data,\n",
    "    type='candle',\n",
    "    style='charles',\n",
    "    title='BTC-USD',\n",
    "    ylabel='Price',\n",
    "    returnfig=True\n",
    "    )\n",
    "\n",
    "ticklocations = [ data.index.get_loc(tick) for tick in data['Date'] ]\n",
    "ticklabels = list(data['Date'])\n",
    "\n",
    "print(len(ticklabels))\n",
    "\n",
    "axlist[-2].xaxis.set_ticks(ticklocations)\n",
    "axlist[-2].set_xticklabels(ticklabels)\n",
    "\n",
    "fplt.show()\n"
   ]
  }
 ],
 "metadata": {
  "kernelspec": {
   "display_name": "Python 3.8.7 64-bit",
   "language": "python",
   "name": "python3"
  },
  "language_info": {
   "codemirror_mode": {
    "name": "ipython",
    "version": 3
   },
   "file_extension": ".py",
   "mimetype": "text/x-python",
   "name": "python",
   "nbconvert_exporter": "python",
   "pygments_lexer": "ipython3",
   "version": "3.8.7"
  },
  "orig_nbformat": 4,
  "vscode": {
   "interpreter": {
    "hash": "d62b7309829161c9ff8c8cb2799597e552c804f98ee796508f623761c3c8a87d"
   }
  }
 },
 "nbformat": 4,
 "nbformat_minor": 2
}
